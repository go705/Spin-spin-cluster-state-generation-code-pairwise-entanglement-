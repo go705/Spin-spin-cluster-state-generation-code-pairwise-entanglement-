{
  "cells": [
    {
      "cell_type": "code",
      "execution_count": null,
      "metadata": {
        "colab": {
          "base_uri": "https://localhost:8080/"
        },
        "id": "eS41gHlaW1LF",
        "outputId": "cb53dd1b-57c9-43be-ff8e-d2b0fa2a31e5"
      },
      "outputs": [
        {
          "name": "stdout",
          "output_type": "stream",
          "text": [
            "zsh:1: command not found: pip\n"
          ]
        }
      ],
      "source": [
        "!pip install qutip\n",
        "from qutip import *\n",
        "import numpy as np\n",
        "import matplotlib.pyplot as plt"
      ]
    },
    {
      "cell_type": "markdown",
      "metadata": {
        "id": "epKIivi4W6zu"
      },
      "source": [
        "# Generation of spin-photon entangled pair via BK protocol\n",
        "\n",
        "\n",
        "Based on the spin-photon entanglement result, we would like to develope the protocol to entangle the two spin systems with high fidelity. To start with, let's prepare two copies of spin-photon systems. In BK protocol (Phys. Rev. A 71, 060310 (2005)), there are 5 steps to achieve high fiedlity or highly entangled state and consists of 5 steps.\n",
        "\n",
        "**Step 1:** Prepare the initial state as the equally suerposition state as: $|\\psi_0\\rangle=\\frac{1}{\\sqrt{2}}\\left(|g_{\\downarrow}0\\rangle_A+|g_{\\uparrow}0\\rangle_A\\right)\\otimes\\frac{1}{\\sqrt{2}}\\left(|g_{\\downarrow}0\\rangle_B+|g_{\\uparrow}0\\rangle_B\\right)$.\n",
        "\n",
        "**Step 2:** Send the optical field, whose Rabi frequency is $\\Omega_s$ and is resonant to the frequency between the transition $|g_\\downarrow\\rangle_{s}\\rightarrow|e\\rangle_{s}$, to the NV system, where $s=A,B$. The interaction Hamiltonian can be written as: $$\\hat{H}/\\hbar=\\sum_{s=A,B}\\Omega_s\\hat{a}_s\\hat{\\sigma}_{+,s}+\\text{h.c.}$$\n",
        ", where $\\hat{\\sigma}_{+,s}=|e\\rangle_{ss}\\langle g_{\\downarrow}|$, with the excitation time-dependent Hamiltonian that uses the semi-classical approximation: $$\\hat{H}_{\\text{exc}}\\left(t\\right)/\\hbar=\\sum_{s=A,B}P_s\\left(t\\right)\\hat{\\sigma}_{+,s}+\\text{h.c.}$$\n",
        ", where $P_s\\left(t\\right)$ is the Rabi frequency of the excitation pulse. For simplicity, let's assume identical Rabi frequencies, excitation pulses of system A and B as $\\Omega$ and $P\\left(t\\right)$.\n",
        "\n",
        "**Step 3:** Counts the clicks that occur at detector $D_1$ or $D_2$. As a reminder, $D_1$ (or $D_2$) stands for the collapsing operator of mode $\\hat{a}_A+\\hat{a}_B$ (or $\\hat{a}_A-\\hat{a}_B$).\n",
        "\n",
        "**Step 4:** Applying both qubits (A and B) with X-gate operation individually, $\\hat{X}=\\left(|g_\\uparrow\\rangle\\langle g_\\downarrow|+|g_\\downarrow\\rangle\\langle g_\\uparrow|+|e\\rangle\\langle e|\\right)_A\\otimes\\left(|g_\\uparrow\\rangle\\langle g_\\downarrow|+|g_\\downarrow\\rangle\\langle g_\\uparrow|+|e\\rangle\\langle e|\\right)_B$, to flip the spins.\n",
        "\n",
        "**Step 5:** Repeat Step 1.\n",
        "\n",
        "In the following, we provide the codes to simulate the overall process."
      ]
    },
    {
      "cell_type": "markdown",
      "metadata": {
        "id": "8EgmSdvKXE2O"
      },
      "source": [
        "# Physical Parameters"
      ]
    },
    {
      "cell_type": "code",
      "execution_count": null,
      "metadata": {
        "id": "lYXtx1r2WpP_"
      },
      "outputs": [],
      "source": [
        "#Deminsions\n",
        "N = 5 # Set where to truncate Fock state of cavity\n",
        "Ne = 3 # number of electronic levels\n",
        "Nn = 2 # number of nuclear levels\n",
        "\n",
        "\n",
        "#Inefficiency\n",
        "kappa =0.1 # Cavity decay rate\n",
        "gamma =1 # Atomic decay rate\n",
        "K_c = 20 # rate for collapsing to detector\n",
        "g0 = 2 # coupling strength (Rabi frequency of vacuum field) between photon and e-spin\n",
        "theta=np.pi/4 # Initial e-spin state angle\n",
        "gamma_dec=0.005 # dephasing rate of e-spin\n",
        "g_hyper = np.pi/2 # hyperfine interaction strength\n",
        "\n",
        "\n",
        "#Excitation pulse\n",
        "#Opitcal Pi-pulse\n",
        "center_optical=0.5\n",
        "life_time_optical=0.04\n",
        "peak_optical =np.sqrt(np.pi)/2/life_time_optical\n",
        "\n",
        "#Microwave Pi-pulse\n",
        "center_microwave=2\n",
        "sig_microwave=0.4\n",
        "\n",
        "#Dephasing standard deviation\n",
        "sig_dephase=np.pi/4"
      ]
    },
    {
      "cell_type": "markdown",
      "metadata": {
        "id": "CqxUwWfJXJoa"
      },
      "source": [
        "# Simulationm parameters"
      ]
    },
    {
      "cell_type": "code",
      "execution_count": null,
      "metadata": {
        "id": "MCbwyg8bXHPs"
      },
      "outputs": [],
      "source": [
        "time_scale=1000\n",
        "numb=50 # numbers of trajectories\n",
        "\n",
        "numb_nuclear=10 # numbers of trajectories of hyperfine interaction\n",
        "\n",
        "t_optical = np.linspace(0.0, 5.0, time_scale) # Evolutionary time of optical transition\n",
        "t_microwave = t_optical # Evolutionary time of microwave transition\n",
        "t_hyperfine = np.linspace(0.0, 1, time_scale) # Evolutionary time of hyperfine interaction\n"
      ]
    },
    {
      "cell_type": "markdown",
      "metadata": {
        "id": "sokm8RFpXMUW"
      },
      "source": [
        "# Other parameters"
      ]
    },
    {
      "cell_type": "code",
      "execution_count": null,
      "metadata": {
        "id": "PFagXMB7XLfV"
      },
      "outputs": [],
      "source": [
        "psi = [[] for _ in range(4)] #Storing the state of the resulting state under BK-scheme\n",
        "cluster_2Qubit = [[] for _ in range(4)] #Storing the resulting cluster state\n",
        "counts = [0 for _ in range(4)] # Counting the numbers of clicks\n",
        "rho_final = [0 for _ in range(4)] #Storing the state for calculating the entanglement entropy"
      ]
    },
    {
      "cell_type": "markdown",
      "metadata": {
        "id": "A8PPhdJWXQim"
      },
      "source": [
        "# Functions"
      ]
    },
    {
      "cell_type": "code",
      "execution_count": null,
      "metadata": {
        "id": "_V4m7UZYXPrP"
      },
      "outputs": [],
      "source": [
        "def optical_pulse(t,arg):\n",
        "    return peak_optical * np.exp(-((t-center_optical) / life_time_optical) ** 2)\n",
        "\n",
        "def decoh(phi):\n",
        "    ele = ground_e_down*ground_e_down.dag()+np.exp(1j*phi)*ground_e_up*ground_e_up.dag()+excited_e*excited_e.dag()\n",
        "    return tensor(qeye(N),ele,qeye(Nn))\n",
        "\n",
        "def microwave_pulse(t,phi,arg):\n",
        "    return phi*(np.exp(-(t-center_microwave)**2/sig_microwave**2/2)/sig_microwave/np.sqrt(2*np.pi))"
      ]
    },
    {
      "cell_type": "markdown",
      "metadata": {
        "id": "s2--KKWGXWVv"
      },
      "source": [
        "# Operators"
      ]
    },
    {
      "cell_type": "code",
      "execution_count": null,
      "metadata": {
        "id": "1S4NJhJgXTze"
      },
      "outputs": [],
      "source": [
        "ground_e_down = basis(Ne, 0)\n",
        "ground_e_up = basis(Ne, 1)\n",
        "excited_e = basis(Ne, 2)\n",
        "\n",
        "ground_n_down = basis(Nn, 0)\n",
        "ground_n_up = basis(Nn, 1)\n",
        "\n",
        "def create_operators(n_systems):\n",
        "    assert 2 <= n_systems <= 26, \"Invalid number of systems\"\n",
        "\n",
        "    systems = \"ABCDEFGHIJKLMNOPQRSTUVWXYZ\"[:n_systems]\n",
        "    module_identity = [qeye(N), qeye(Ne), qeye(Nn)]\n",
        "\n",
        "    ops = dict()\n",
        "    for i, l in enumerate(systems):\n",
        "\n",
        "        sigma_e_L_gd_e = module_identity * n_systems\n",
        "        sigma_e_L_gd_e[3 * i + 1] = ground_e_down * excited_e.dag()\n",
        "        ops[f\"sigma_e_{l}_gd_e\"] = tensor(*sigma_e_L_gd_e)\n",
        "\n",
        "        sigma_e_L_gd_gu = module_identity * n_systems\n",
        "        sigma_e_L_gd_gu[3 * i + 1] = ground_e_down * ground_e_up.dag()\n",
        "        ops[f\"sigma_e_{l}_gd_gu\"] = tensor(*sigma_e_L_gd_gu)\n",
        "\n",
        "        sigma_n_L_gd_gu = module_identity * n_systems\n",
        "        sigma_n_L_gd_gu[3 * i + 2] = ground_n_down * ground_n_up.dag()\n",
        "        ops[f\"sigma_n_{l}_gd_gu\"] = tensor(*sigma_n_L_gd_gu)\n",
        "\n",
        "        a_L = module_identity * n_systems\n",
        "        a_L[3 * i] = destroy(N)\n",
        "        ops[f\"a_{l}\"] = tensor(*a_L)\n",
        "\n",
        "        sigma_e_L_gd_gu, sigma_n_L_gd_gu = ops[f\"sigma_e_{l}_gd_gu\"], ops[f\"sigma_n_{l}_gd_gu\"]\n",
        "        H0_hyper_L = -g_hyper * (sigma_e_L_gd_gu.dag() * sigma_n_L_gd_gu + sigma_n_L_gd_gu.dag() * sigma_e_L_gd_gu)\n",
        "        ops[f\"H0_hyper_{l}\"] = H0_hyper_L\n",
        "\n",
        "    #Letters for the last two systems, which will be involved in the entanglement generation\n",
        "    l1, l2 = systems[-2], systems[-1]\n",
        "    sigma_e_1_gd_e, sigma_e_2_gd_e = ops[f\"sigma_e_{l1}_gd_e\"], ops[f\"sigma_e_{l2}_gd_e\"]\n",
        "    sigma_e_1_gd_gu, sigma_e_2_gd_gu = ops[f\"sigma_e_{l1}_gd_gu\"], ops[f\"sigma_e_{l2}_gd_gu\"]\n",
        "    a_1, a_2 = ops[f\"a_{l1}\"], ops[f\"a_{l2}\"]\n",
        "\n",
        "    # Optical photon and e-spin\n",
        "    H0_o_1 = -g0 * (sigma_e_1_gd_e.dag() * a_1+a_1.dag()* sigma_e_1_gd_e) # time-independent Hamiltonian of system A\n",
        "    H0_o_2 = -g0 * (sigma_e_2_gd_e.dag() * a_2+a_2.dag()* sigma_e_2_gd_e) # time-independent Hamiltonian of system B\n",
        "    H0_o = H0_o_1 + H0_o_2 # time-independent Hermitian of global system\n",
        "    H1_o_1 = (sigma_e_1_gd_e.dag() + sigma_e_1_gd_e) # time-dependent Hamiltonian of system A after semi-classical approximation\n",
        "    H1_o_2 = (sigma_e_2_gd_e.dag() + sigma_e_2_gd_e) # time-dependent Hamiltonian of system A after semi-classical approximation\n",
        "    H_optical = [H0_o,[H1_o_1, optical_pulse],[H1_o_2,optical_pulse]]\n",
        "    ops[\"H_optical\"] = H_optical\n",
        "\n",
        "    # Microwave photon and e-spin (X-gate)\n",
        "    H1_m_1 = (sigma_e_1_gd_gu.dag() + sigma_e_1_gd_gu) # time-dependent Hamiltonian of system A after semi-classical approximation\n",
        "    H1_m_2 = (sigma_e_2_gd_gu.dag() + sigma_e_2_gd_gu) # time-dependent Hamiltonian of system A after semi-classical approximation\n",
        "    H_microwave=[[H1_m_1,microwave_pulse(t_microwave,np.pi/2,None)], [H1_m_2,microwave_pulse(t_microwave,np.pi/2,None)]]\n",
        "    ops[\"H_microwave\"] = H_microwave\n",
        "\n",
        "    # Hyperfine interaction between e-spin and n-spin\n",
        "    H_hyper = None\n",
        "    for l in systems:\n",
        "        H0_hyper_L = ops[f\"H0_hyper_{l}\"]\n",
        "        if H_hyper == None: H_hyper = H0_hyper_L\n",
        "        else: H_hyper += H0_hyper_L\n",
        "    ops[\"H_hyper\"] = H_hyper\n",
        "\n",
        "    # This part is for the generation of cluster state with X and Hadmard gates\n",
        "    sigma_n_2_gd_gu = ops[f\"sigma_n_{l2}_gd_gu\"]\n",
        "    H1_m_cluster_B = -1j*(sigma_n_2_gd_gu.dag() - sigma_n_2_gd_gu) # time-dependent Hamiltonian of system A after semi-classical approximation\n",
        "    H_had=[H1_m_cluster_B,microwave_pulse(t_microwave,np.pi/4,None)]\n",
        "    ops[\"H_had\"] = H_had\n",
        "\n",
        "    c_ops = []\n",
        "    c_ops.append(np.sqrt(kappa) * a_1) # Cavity decay of system A. C0\n",
        "    c_ops.append(np.sqrt(kappa) * a_2) # Cavity decay of system B. C1\n",
        "    for l in systems:\n",
        "        c_ops.append(np.sqrt(gamma) * ops[f\"sigma_e_{l}_gd_e\"])\n",
        "    c_ops.append(np.sqrt(K_c) * (a_1+a_2)/np.sqrt(2)) # Collapsing to detector 1        C4\n",
        "    c_ops.append(np.sqrt(K_c) * (a_1-a_2)/np.sqrt(2)) # Collapsing to detector 2        C5\n",
        "    ops[\"c_ops\"] = c_ops\n",
        "\n",
        "    c_ops_dephasing = []\n",
        "    c_ops_had=[]\n",
        "    for _ in range(20):\n",
        "        for i in range(n_systems):\n",
        "            terms = module_identity * n_systems\n",
        "            c_ops_dephasing.append(np.sqrt(gamma_dec) * tensor(*terms[:i*3], decoh(np.random.normal(0,sig_dephase)), *terms[(i+1)*3:]))\n",
        "        terms = module_identity * (n_systems - 1)\n",
        "        terms.append(decoh(np.random.normal(0,sig_dephase)))\n",
        "        c_ops_had.append(np.sqrt(gamma_dec)*tensor(*terms)) ### This part is for cluster state generation\n",
        "    ops[\"c_ops_dephasing\"] = c_ops_dephasing\n",
        "    ops[\"c_ops_had\"] = c_ops_had\n",
        "\n",
        "    return ops\n"
      ]
    },
    {
      "cell_type": "markdown",
      "metadata": {
        "id": "mMIYOsWqXa19"
      },
      "source": [
        "# Simulations"
      ]
    },
    {
      "cell_type": "code",
      "execution_count": null,
      "metadata": {
        "id": "6jKOnYTwXYfw"
      },
      "outputs": [],
      "source": [
        "operators = create_operators(2)\n",
        "H_optical, H_microwave, H_hyper, H_had = operators[\"H_optical\"], operators[\"H_microwave\"], operators[\"H_hyper\"], operators[\"H_had\"]\n",
        "c_ops, c_ops_dephasing, c_ops_had = operators[\"c_ops\"], operators[\"c_ops_dephasing\"], operators[\"c_ops_had\"]\n",
        "\n",
        "photon = basis(N, 0) # Initial photonic state\n",
        "spin_e = ground_e_down*np.cos(theta)+ground_e_up*np.sin(theta) # Initial electronic spin state\n",
        "spin_n = ground_n_down\n",
        "psi_initial = tensor(photon, spin_e, spin_n, photon, spin_e, spin_n) # Initial global state\n",
        "\n",
        "output = mcsolve(H_optical, psi_initial, t_optical, c_ops, [], ntraj = numb, progress_bar=False)"
      ]
    },
    {
      "cell_type": "markdown",
      "metadata": {
        "id": "50O7V_mDXfZY"
      },
      "source": [
        "We count the clicks that occur on each detector, and run the monte carlo solver a second time, recording the average resulting states:"
      ]
    },
    {
      "cell_type": "code",
      "execution_count": null,
      "metadata": {
        "id": "ArKclyL_XcPc"
      },
      "outputs": [],
      "source": [
        "def run_second_mcsolve(final_state, first_run_detector, counts):\n",
        "    #Step 4\n",
        "    # Let's apply the pi pulse to flip the two spins, which is equivalent to apply a deterministic X gate\n",
        "    result0 = mcsolve(H_microwave, final_state, t_microwave, c_ops_dephasing, [], ntraj = 1, progress_bar=False)\n",
        "    result = mcsolve(H_optical, result0.states[0][-1], t_optical, c_ops, [], ntraj = numb, progress_bar=False)\n",
        "\n",
        "    for i in range(numb):\n",
        "        #For all trajectories, check if either detector fired, and if so add the final state to the appropriate index in rhos\n",
        "        if 4 in result.col_which[i]:\n",
        "            psi_num = 0 if first_run_detector == 4 else 2\n",
        "            psi[psi_num].append(result.states[i][-1])\n",
        "            counts[psi_num] += 1\n",
        "        if 5 in result.col_which[i]:\n",
        "            psi_num = 1 if first_run_detector == 4 else 3\n",
        "            psi[psi_num].append(result.states[i][-1])\n",
        "            counts[psi_num] += 1\n",
        "\n",
        "for i in range(numb):\n",
        "    #Step 3\n",
        "    if 4 in output.col_which[i]:\n",
        "        run_second_mcsolve(output.states[i][-1], 4, counts)\n",
        "    if 5 in output.col_which[i]:\n",
        "        run_second_mcsolve(output.states[i][-1], 5, counts)\n",
        "\n",
        "for i in range(4):\n",
        "    rhos = 0\n",
        "    for j in range(len(psi[i])):\n",
        "        final_result = mcsolve(H_hyper, psi[i][j], t_hyperfine, c_ops_dephasing, ntraj = numb_nuclear, progress_bar=False)\n",
        "        final_result1 = mcsolve(H_had, final_result.states[0][-1], t_microwave, c_ops_had, [], ntraj = 1, progress_bar=False)\n",
        "        cluster_2Qubit[i].append(final_result1.states[0][-1])\n",
        "        for k in range(numb_nuclear):\n",
        "            rhos += final_result.states[k][-1].ptrace([2,5])\n",
        "    rho_final[i]=rhos/numb_nuclear/len(psi[i])"
      ]
    },
    {
      "cell_type": "code",
      "execution_count": null,
      "metadata": {
        "colab": {
          "base_uri": "https://localhost:8080/"
        },
        "id": "IHVd1RiOXiBj",
        "outputId": "daedfb8a-5bec-4149-ed84-b1e7ef489343"
      },
      "outputs": [
        {
          "name": "stdout",
          "output_type": "stream",
          "text": [
            "BK scheme:  entanglement entropy (D1->D1):  0.9998710000175292  with fidelity: 0.8851970353470543\n",
            "BK scheme:  entanglement entropy (D2->D2):  0.9988272964791314  with fidelity: 0.9475004097615484\n",
            "BK scheme:  entanglement entropy (D1->D2):  0.9998863388271505  with fidelity: 0.8912809395809351\n",
            "BK scheme:  entanglement entropy (D2->D1):  0.9981272757007833  with fidelity: 0.9314339828485343\n"
          ]
        }
      ],
      "source": [
        "# We expect the spin state that D1 fires in both rounds will result in a bell state |01>+|10> and let's calculate the entanglement entropy as well as their fiedlities\n",
        "Bell1=tensor(ground_n_down,ground_n_up)/np.sqrt(2)+tensor(ground_n_up,ground_n_down)/np.sqrt(2)\n",
        "print(\"BK scheme:  entanglement entropy (D1->D1): \",(entropy_vn(rho_final[0].ptrace(1),2)+entropy_vn(rho_final[0].ptrace(0),2))/2, \" with fidelity:\",fidelity(rho_final[0],Bell1))\n",
        "# We expect the spin state that D1 fires in both rounds will result in a bell state |01>+|10> and let's calculate the entanglement entropy as well as their fiedlities\n",
        "print(\"BK scheme:  entanglement entropy (D2->D2): \",(entropy_vn(rho_final[3].ptrace(1),2)+entropy_vn(rho_final[3].ptrace(0),2))/2, \" with fidelity:\",fidelity(rho_final[3],Bell1))\n",
        "# We expect the spin state of the event that D1 fires in the first and D2 fires in the second round results in a bell state |01>-|10> and let's calculate the entanglement entropy as well as their fiedlities\n",
        "Bell2=tensor(ground_n_down,ground_n_up)/np.sqrt(2)-tensor(ground_n_up,ground_n_down)/np.sqrt(2)\n",
        "print(\"BK scheme:  entanglement entropy (D1->D2): \",(entropy_vn(rho_final[1].ptrace(1),2)+entropy_vn(rho_final[1].ptrace(0),2))/2, \" with fidelity:\",fidelity(rho_final[1],Bell2))\n",
        "# We expect the spin state of the event that D2 fires in the first and D1 fires in the second round results in a bell state |01>-|10> and let's calculate the entanglement entropy as well as their fiedlities\n",
        "print(\"BK scheme:  entanglement entropy (D2->D1): \",(entropy_vn(rho_final[2].ptrace(1),2)+entropy_vn(rho_final[2].ptrace(0),2))/2, \" with fidelity:\",fidelity(rho_final[2],Bell2))"
      ]
    },
    {
      "cell_type": "markdown",
      "metadata": {
        "id": "x13Gfx16XmPZ"
      },
      "source": [
        "# 2-qubit cluster (D1->D1)"
      ]
    },
    {
      "cell_type": "code",
      "execution_count": null,
      "metadata": {
        "colab": {
          "base_uri": "https://localhost:8080/"
        },
        "id": "6BWRdI9AXmhf",
        "outputId": "9fe56a43-86dd-41b6-d30b-fe1f7238315c"
      },
      "outputs": [
        {
          "name": "stdout",
          "output_type": "stream",
          "text": [
            "Max fidelity:  1.0000000107832956\n",
            "Average fidelity:  0.8979475661674206\n",
            "Min fidelity:  0.10509313474784916\n"
          ]
        }
      ],
      "source": [
        "Z = ground_n_down*ground_n_down.dag() - ground_n_up*ground_n_up.dag()\n",
        "plus = ground_n_down/np.sqrt(2)+ground_n_up/np.sqrt(2)\n",
        "minus = Z * plus\n",
        "Cluster_2qubit_ideal = tensor(plus,ground_n_down)/np.sqrt(2) + tensor(minus,ground_n_up)/np.sqrt(2)\n",
        "\n",
        "entanglement = np.zeros(len(cluster_2Qubit[0]))\n",
        "\n",
        "for i in range(len(cluster_2Qubit[0])):\n",
        "    rho_2cluster = cluster_2Qubit[0][i].ptrace([2,5])\n",
        "    entanglement[i] = fidelity(rho_2cluster, Cluster_2qubit_ideal)\n",
        "\n",
        "print(\"Max fidelity: \",np.max(entanglement))\n",
        "print(\"Average fidelity: \",np.mean(entanglement))\n",
        "print(\"Min fidelity: \",np.min(entanglement))"
      ]
    },
    {
      "cell_type": "markdown",
      "metadata": {
        "id": "rpMcB8KTXqQt"
      },
      "source": [
        "# 3-qubit cluster"
      ]
    },
    {
      "cell_type": "code",
      "execution_count": null,
      "metadata": {
        "id": "SsZ2_gJGXn4W"
      },
      "outputs": [],
      "source": [
        "module_identity = tensor(qeye(N), qeye(Ne), qeye(Nn))\n",
        "module_basis = tensor(basis(N,0), basis(Ne,0), basis(Nn,0))\n",
        "\n",
        "# After successfully generating the electronic spin entanglement, let's store the entanglement of electronic spin with nuclear spin\n",
        "psi_0 = tensor(cluster_2Qubit[0][0],module_basis) # Initial global state\n",
        "\n",
        "operators = create_operators(3)"
      ]
    },
    {
      "cell_type": "code",
      "execution_count": null,
      "metadata": {
        "id": "ZsFTfTGWXskn"
      },
      "outputs": [],
      "source": []
    }
  ],
  "metadata": {
    "colab": {
      "provenance": []
    },
    "kernelspec": {
      "display_name": "Python 3",
      "name": "python3"
    },
    "language_info": {
      "codemirror_mode": {
        "name": "ipython",
        "version": 3
      },
      "file_extension": ".py",
      "mimetype": "text/x-python",
      "name": "python",
      "nbconvert_exporter": "python",
      "pygments_lexer": "ipython3",
      "version": "3.11.2"
    }
  },
  "nbformat": 4,
  "nbformat_minor": 0
}